{
  "cells": [
    {
      "cell_type": "markdown",
      "metadata": {
        "id": "view-in-github",
        "colab_type": "text"
      },
      "source": [
        "<a href=\"https://colab.research.google.com/github/marinamangia/br-python-challenges/blob/master/Desafio_08.ipynb\" target=\"_parent\"><img src=\"https://colab.research.google.com/assets/colab-badge.svg\" alt=\"Open In Colab\"/></a>"
      ]
    },
    {
      "cell_type": "markdown",
      "metadata": {
        "id": "o3tkeMDNf6Jo"
      },
      "source": [
        "### Desafio 8\n",
        "\n",
        "Escreva um script Python para encontrar as 10 palavras mais longas em um arquivo de texto.\n",
        "O arquivo .txt está localizado na mesma pasta do projeto (**texto.txt**)."
      ]
    },
    {
      "cell_type": "code",
      "source": [
        "texto = \"\"\"\n",
        "\n",
        "What is Python language?                                                \n",
        "Python is a widely used high-level, general-purpose, interpreted, dynamic programming language.Its design philosophy emphasizes code readability, and its syntax allows programmers to express concepts in fewer lines of code than possible in \n",
        "languages such as C++ or Java. \n",
        "Python supports multiple programming paradigms, including object-oriented, imperative and functional programming or procedural styles.It features a dynamic type system and automatic memory management and has a large and comprehensive standard library.The best way we learn anything is by practice and exercise questions. We  have started this section for those (beginner to intermediate) who are familiar with Python.\n",
        "\n",
        "\"\"\""
      ],
      "metadata": {
        "id": "K7Yq9UQtsNSw"
      },
      "execution_count": 9,
      "outputs": []
    },
    {
      "cell_type": "code",
      "source": [
        "with open(\"texto.txt\", 'w') as infile:\n",
        "  infile.write(texto)"
      ],
      "metadata": {
        "id": "AunEnBkwsvN_"
      },
      "execution_count": 10,
      "outputs": []
    },
    {
      "cell_type": "code",
      "execution_count": 11,
      "metadata": {
        "colab": {
          "base_uri": "https://localhost:8080/"
        },
        "id": "EknxjSG0f6Jo",
        "outputId": "82f8ea60-05fd-4d80-ec44-26386299defb"
      },
      "outputs": [
        {
          "output_type": "stream",
          "name": "stdout",
          "text": [
            "['general-purpose,', 'object-oriented,']\n"
          ]
        }
      ],
      "source": [
        "def longest_words(filename):\n",
        "    with open(filename, 'r') as infile:\n",
        "        words = infile.read().split()\n",
        "    max_len = len(max(words, key=len))\n",
        "    return [word for word in words if len(word) == max_len]\n",
        " \n",
        "print(longest_words('texto.txt'))"
      ]
    },
    {
      "cell_type": "code",
      "source": [
        ""
      ],
      "metadata": {
        "id": "Of2dSvRKsydZ"
      },
      "execution_count": null,
      "outputs": []
    },
    {
      "cell_type": "code",
      "source": [
        ""
      ],
      "metadata": {
        "id": "99Kt9TIosSWZ"
      },
      "execution_count": null,
      "outputs": []
    },
    {
      "cell_type": "code",
      "execution_count": null,
      "metadata": {
        "id": "ZYbqEWBG5nKx"
      },
      "outputs": [],
      "source": [
        ""
      ]
    }
  ],
  "metadata": {
    "anaconda-cloud": {},
    "colab": {
      "name": "Desafio 8.ipynb",
      "provenance": [],
      "include_colab_link": true
    },
    "kernelspec": {
      "display_name": "Python 3",
      "language": "python",
      "name": "python3"
    },
    "language_info": {
      "codemirror_mode": {
        "name": "ipython",
        "version": 3
      },
      "file_extension": ".py",
      "mimetype": "text/x-python",
      "name": "python",
      "nbconvert_exporter": "python",
      "pygments_lexer": "ipython3",
      "version": "3.7.9"
    }
  },
  "nbformat": 4,
  "nbformat_minor": 0
}